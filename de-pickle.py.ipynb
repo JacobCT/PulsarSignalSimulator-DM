{
 "cells": [
  {
   "cell_type": "code",
   "execution_count": 1,
   "metadata": {
    "collapsed": true
   },
   "outputs": [],
   "source": [
    "import numpy as np\n",
    "import scipy.interpolate as si\n",
    "import scipy\n",
    "import scipy.stats\n",
    "from scipy import stats\n",
    "import scipy.signal as ss\n",
    "import numpy.fft as fft\n",
    "import pickle\n",
    "import os\n",
    "import subprocess\n",
    "import matplotlib.pyplot as plt"
   ]
  },
  {
   "cell_type": "code",
   "execution_count": 2,
   "metadata": {
    "collapsed": true
   },
   "outputs": [],
   "source": [
    "def rotate_portrait(port, phase=0.0, DM=None, P=None, freqs=None,\n",
    "        nu_ref=np.inf):\n",
    "    \"\"\"\n",
    "    Rotate and/or dedisperse a portrait.\n",
    "    Positive values of phase and DM rotate the data to earlier phases\n",
    "        (i.e. it \"dedisperses\") for freqs < nu_ref.\n",
    "    When used to dediserpse, rotate_portrait is virtually identical to\n",
    "        arch.dedisperse() in PSRCHIVE.\n",
    "    port is a nchan x nbin array of data values.\n",
    "    phase is a value specifying the amount of achromatic rotation [rot].\n",
    "    DM is a value specifying the amount of rotation based on the cold-plasma\n",
    "        dispersion law [cm**-3 pc].\n",
    "    P is the pulsar period [sec] at the epoch of the data, needed if a DM is\n",
    "        provided.\n",
    "    freqs is an array of frequencies [MHz], needed if a DM is provided.\n",
    "    nu_ref is the reference frequency [MHz] that has zero delay for any value\n",
    "        of DM.\n",
    "    \"\"\"\n",
    "    #Exact dispersion constant (e**2/(2*pi*m_e*c)) (used by PRESTO).\n",
    "    Dconst_exact = 4.148808e3  #[MHz**2 cm**3 pc**-1 s]\n",
    "    \n",
    "    #\"Traditional\" dispersion constant (used by PSRCHIVE,TEMPO,PINT).\n",
    "    Dconst_trad = 0.000241**-1 #[MHz**2 cm**3 pc**-1 s]\n",
    "    \n",
    "    #Fitted DM values will depend on this choice.  Choose wisely.\n",
    "    Dconst = Dconst_trad\n",
    "    \n",
    "    pFFT = fft.rfft(port, axis=1)\n",
    "    for nn in range(len(pFFT)):\n",
    "        if DM is None and freqs is None:\n",
    "            pFFT[nn,:] *= np.exp(np.arange(len(pFFT[nn])) * 2.0j * np.pi *\n",
    "                    phase)\n",
    "        else:\n",
    "            D = Dconst * DM / P\n",
    "            freq = freqs[nn]\n",
    "            phasor = np.exp(np.arange(len(pFFT[nn])) * 2.0j * np.pi * (phase +\n",
    "                (D * (freq**-2.0 - nu_ref**-2.0))))\n",
    "            pFFT[nn,:] *= phasor\n",
    "    return fft.irfft(pFFT)\n",
    "\n",
    "# Also need this function to get the frequency values and such\n",
    "def gen_spline_portrait(mean_prof, freqs, eigvec, tck, nbin=None):\n",
    "    \"\"\"\n",
    "    Generate a model portrait from make_spline_model(...) output.\n",
    "    mean_prof is the mean profile.\n",
    "    freqs are the frequencies at which to build the model.\n",
    "    eigvec are the eigenvectors providing the basis for the B-spline curve.\n",
    "    tck is a tuple containing knot locations, B-spline coefficients, and spline\n",
    "        degree (output of si.splprep(...)).\n",
    "    nbin is the number of phase bins to use in the model; if different from\n",
    "        len(mean_prof), a resampling function is used.\n",
    "    \"\"\"\n",
    "    if not eigvec.shape[1]:\n",
    "        port = np.tile(mean_prof, len(freqs)).reshape(len(freqs),\n",
    "                len(mean_prof))\n",
    "    else:\n",
    "        proj_port = np.array(si.splev(freqs, tck, der=0, ext=0)).T\n",
    "        delta_port = np.dot(proj_port, eigvec.T)\n",
    "        port = delta_port + mean_prof\n",
    "    if nbin is not None:\n",
    "        if len(mean_prof) != nbin:\n",
    "            shift = 0.5 * (nbin**-1 - len(mean_prof)**-1)\n",
    "            port = ss.resample(port, nbin, axis=1)\n",
    "            port = rotate_portrait(port, shift) #ss.resample introduces shift!\n",
    "    return port\n",
    "\n",
    "def read_spline_model(modelfile, freqs=None, nbin=None, quiet=False):\n",
    "    \"\"\"\n",
    "    Read-in a model created by make_spline_model(...).\n",
    "    If only modelfile is specified, returns the contents of the pickled model:\n",
    "        (model name, source name, datafile name from which the model was\n",
    "        created, mean profile vector used in the PCA, the eigenvectors, and the\n",
    "        'tck' tuple containing knot locations, B-spline coefficients, and\n",
    "        spline degree)\n",
    "    Otherwise, builds a model based on the input frequencies using the function\n",
    "        gen_spline_portrait(...).\n",
    "    modelfile is the name of the make_spline_model(...)-type of model file.\n",
    "    freqs in an array of frequencies at which to build the model; these should\n",
    "        be in the same units as the datafile frequencies, and they should be\n",
    "        within the same bandwidth range (cf. the knot vector).\n",
    "    nbin is the number of phase bins to use in the model; by default it uses\n",
    "        the number in modelfile.\n",
    "    quiet=True suppresses output.\n",
    "    \"\"\"\n",
    "    if freqs is None:\n",
    "        read_only = True\n",
    "    else:\n",
    "        read_only = False\n",
    "    if not quiet:\n",
    "        print(\"Reading model from %s...\"%modelfile)\n",
    "    modelname, source, datafile, mean_prof, eigvec, tck = \\\n",
    "            pickle.load(open(modelfile, 'rb'))\n",
    "    if read_only:\n",
    "        return (modelname, source, datafile, mean_prof, eigvec, tck)\n",
    "    else:\n",
    "        return (modelname,\n",
    "                gen_spline_portrait(mean_prof, freqs, eigvec, tck, nbin))"
   ]
  },
  {
   "cell_type": "code",
   "execution_count": 3,
   "metadata": {
    "collapsed": true
   },
   "outputs": [],
   "source": [
    "infile = open(\"/home/jdc0059/SimulatorProj/templatefiles/J1918-0642/J1918-0642.Rcvr1_2.GUPPI.12y.x.avg_port.spl\")\n",
    "new_arr = pickle.load(infile)"
   ]
  },
  {
   "cell_type": "code",
   "execution_count": 4,
   "metadata": {},
   "outputs": [
    {
     "name": "stdout",
     "output_type": "stream",
     "text": [
      "Reading model from /home/jdc0059/SimulatorProj/templatefiles/J1918-0642/J1918-0642.Rcvr1_2.GUPPI.12y.x.avg_port.spl...\n"
     ]
    }
   ],
   "source": [
    "model,psr,avg_port,mean_prof,eigvec,tck = read_spline_model(\"/home/jdc0059/SimulatorProj/templatefiles/J1918-0642/J1918-0642.Rcvr1_2.GUPPI.12y.x.avg_port.spl\")\n",
    "freqs_Lband = np.linspace(1162.1, 1749.6, 45)"
   ]
  },
  {
   "cell_type": "code",
   "execution_count": 5,
   "metadata": {},
   "outputs": [
    {
     "name": "stdout",
     "output_type": "stream",
     "text": [
      "(2048,)\n",
      "(2048, 1)\n",
      "(3,)\n"
     ]
    }
   ],
   "source": [
    "print(np.shape(mean_prof))\n",
    "print(np.shape(eigvec))\n",
    "print(np.shape(tck))"
   ]
  },
  {
   "cell_type": "code",
   "execution_count": 6,
   "metadata": {},
   "outputs": [
    {
     "name": "stdout",
     "output_type": "stream",
     "text": [
      "Reading model from /home/jdc0059/SimulatorProj/templatefiles/J1918-0642/J1918-0642.Rcvr1_2.GUPPI.12y.x.avg_port.spl...\n"
     ]
    }
   ],
   "source": [
    "modelname, prof_models_interp_Lband = read_spline_model(\"/home/jdc0059/SimulatorProj/templatefiles/J1918-0642/J1918-0642.Rcvr1_2.GUPPI.12y.x.avg_port.spl\", freqs=freqs_Lband, nbin=2048)"
   ]
  },
  {
   "cell_type": "code",
   "execution_count": 7,
   "metadata": {},
   "outputs": [],
   "source": [
    "#print(new_arr)\n",
    "#print(type(new_arr))\n",
    "\n",
    "#np.save(\"/home/jdc0059/SimulatorProj/templatefiles/J1918-0642/J1918-0642.Rcvr1_2.GUPPI.12y.x.avg_port.spl\", new_arr)"
   ]
  },
  {
   "cell_type": "code",
   "execution_count": null,
   "metadata": {
    "collapsed": true
   },
   "outputs": [],
   "source": []
  },
  {
   "cell_type": "code",
   "execution_count": 8,
   "metadata": {
    "collapsed": true
   },
   "outputs": [],
   "source": [
    "infile = open(\"/home/jdc0059/SimulatorProj/templatefiles/J1918-0642/J1918-0642.Rcvr_800.GUPPI.12y.x.avg_port.spl\")\n",
    "new_arr = pickle.load(infile)"
   ]
  },
  {
   "cell_type": "code",
   "execution_count": 9,
   "metadata": {},
   "outputs": [
    {
     "name": "stdout",
     "output_type": "stream",
     "text": [
      "Reading model from /home/jdc0059/SimulatorProj/templatefiles/J1918-0642/J1918-0642.Rcvr1_2.GUPPI.12y.x.avg_port.spl...\n"
     ]
    }
   ],
   "source": [
    "model,psr,avg_port,mean_prof,eigvec,tck = read_spline_model(\"/home/jdc0059/SimulatorProj/templatefiles/J1918-0642/J1918-0642.Rcvr1_2.GUPPI.12y.x.avg_port.spl\")\n",
    "freqs_800 = np.linspace(750, 850, 64)"
   ]
  },
  {
   "cell_type": "code",
   "execution_count": 10,
   "metadata": {},
   "outputs": [
    {
     "name": "stdout",
     "output_type": "stream",
     "text": [
      "Reading model from /home/jdc0059/SimulatorProj/templatefiles/J1918-0642/J1918-0642.Rcvr_800.GUPPI.12y.x.avg_port.spl...\n"
     ]
    }
   ],
   "source": [
    "modelname, prof_models_interp_800 = read_spline_model(\"/home/jdc0059/SimulatorProj/templatefiles/J1918-0642/J1918-0642.Rcvr_800.GUPPI.12y.x.avg_port.spl\", freqs=freqs_800, nbin=2048)"
   ]
  },
  {
   "cell_type": "code",
   "execution_count": 11,
   "metadata": {},
   "outputs": [
    {
     "name": "stdout",
     "output_type": "stream",
     "text": [
      "((45, 2048), (64, 2048))\n"
     ]
    }
   ],
   "source": [
    "print(np.shape(prof_models_interp_Lband), np.shape(prof_models_interp_800))"
   ]
  },
  {
   "cell_type": "code",
   "execution_count": 12,
   "metadata": {},
   "outputs": [
    {
     "data": {
      "text/plain": [
       "'np.save(\"B1855+09_Lband_Profs\", prof_models_interp_Lband)\\nnp.save(\"B1855+09_Lband_Freqs\", freqs_Lband)\\nnp.save(\"B1855+09_430_Profs\", prof_models_interp_430)\\nnp.save(\"B1855+09_430_Freqs\", freqs_430)'"
      ]
     },
     "execution_count": 12,
     "metadata": {},
     "output_type": "execute_result"
    }
   ],
   "source": [
    "# save profiles\n",
    "\"\"\"np.save(\"B1855+09_Lband_Profs\", prof_models_interp_Lband)\n",
    "np.save(\"B1855+09_Lband_Freqs\", freqs_Lband)\n",
    "np.save(\"B1855+09_430_Profs\", prof_models_interp_430)\n",
    "np.save(\"B1855+09_430_Freqs\", freqs_430)\"\"\"\n",
    "# save profiles with constricted version\n",
    "#np.save(\"B1855+09_Lband_Profs_NANOfreq_64\", prof_models_interp_Lband)\n",
    "#np.save(\"B1855+09_Lband_Freqs_NANOfreq_64\", freqs_Lband)\n",
    "#np.save(\"B1855+09_430_Profs_NANOfreq_64\", prof_models_interp_430)\n",
    "#np.save(\"B1855+09_430_Freqs_NANOfreq_64\", freqs_430)\n"
   ]
  },
  {
   "cell_type": "code",
   "execution_count": null,
   "metadata": {
    "collapsed": true
   },
   "outputs": [],
   "source": []
  }
 ],
 "metadata": {
  "kernelspec": {
   "display_name": "Python 2",
   "language": "python",
   "name": "python2"
  },
  "language_info": {
   "codemirror_mode": {
    "name": "ipython",
    "version": 2
   },
   "file_extension": ".py",
   "mimetype": "text/x-python",
   "name": "python",
   "nbconvert_exporter": "python",
   "pygments_lexer": "ipython2",
   "version": "2.7.13"
  }
 },
 "nbformat": 4,
 "nbformat_minor": 2
}
